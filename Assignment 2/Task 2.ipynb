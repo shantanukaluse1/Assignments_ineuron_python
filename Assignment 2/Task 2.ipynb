{
 "cells": [
  {
   "cell_type": "markdown",
   "metadata": {},
   "source": [
    "# 1.1 Write a Python Program(with class concepts) to find the area of the triangle using the below formulas\n",
    "## s=(a+b+c)/2\n",
    "## area = [s * (s-a) * (s-b) * (s-c)]* * 0.5\n",
    "# Function to take the length of the sides of triangle from user should be defined in the parent class and function to calculate the area should be defined in subclass.\n",
    "\n"
   ]
  },
  {
   "cell_type": "code",
   "execution_count": 135,
   "metadata": {},
   "outputs": [],
   "source": [
    "import math\n",
    "class A:\n",
    "    def __init__(self,x,y,z):     \n",
    "        self.a=x\n",
    "        self.b=y\n",
    "        self.c=z\n",
    "        print(\"Three Sides of Traingle are:\",'\\n'\"Side1:\",x,'\\n'\"Side2:\",y,'\\n'\"Side3:\",z)"
   ]
  },
  {
   "cell_type": "code",
   "execution_count": 136,
   "metadata": {},
   "outputs": [],
   "source": [
    "class B(A):\n",
    "    def __init__(self,a,b,c):\n",
    "        A.__init__(self,a,b,c)     \n",
    "    def area_of_triangle(self):\n",
    "        a,b,c=self.a,self.b,self.c\n",
    "        s = (a+b+c)/2\n",
    "        area=math.sqrt(s*(s-a)*(s-b)*(s-c))\n",
    "        print(\"Area of Traingle is %0.2f\"%area,\"unit square\")"
   ]
  },
  {
   "cell_type": "code",
   "execution_count": 137,
   "metadata": {},
   "outputs": [
    {
     "name": "stdout",
     "output_type": "stream",
     "text": [
      "Three Sides of Traingle are: \n",
      "Side1: 23 \n",
      "Side2: 33 \n",
      "Side3: 42\n"
     ]
    }
   ],
   "source": [
    "o=B(23,33,42)"
   ]
  },
  {
   "cell_type": "code",
   "execution_count": 138,
   "metadata": {},
   "outputs": [
    {
     "name": "stdout",
     "output_type": "stream",
     "text": [
      "Area of Traingle is 377.74 unit square\n"
     ]
    }
   ],
   "source": [
    "o.area_of_triangle()"
   ]
  },
  {
   "cell_type": "markdown",
   "metadata": {},
   "source": [
    "# 1.2 Write a function filter_long_words() that takes a list of words and an integer n and returns the list of words that are longer than n.\n"
   ]
  },
  {
   "cell_type": "code",
   "execution_count": 1,
   "metadata": {},
   "outputs": [],
   "source": [
    "def filter_long_words(li,n):\n",
    "    l=[]\n",
    "    for i in li:\n",
    "        if(len(i)>n):l.append(i)\n",
    "    return l"
   ]
  },
  {
   "cell_type": "code",
   "execution_count": 2,
   "metadata": {},
   "outputs": [],
   "source": [
    "li=[\"shantanu\",\"rushikesh\",\"akshay\"]"
   ]
  },
  {
   "cell_type": "code",
   "execution_count": 3,
   "metadata": {},
   "outputs": [
    {
     "data": {
      "text/plain": [
       "['shantanu', 'rushikesh']"
      ]
     },
     "execution_count": 3,
     "metadata": {},
     "output_type": "execute_result"
    }
   ],
   "source": [
    "filter_long_words(li,6)"
   ]
  },
  {
   "cell_type": "code",
   "execution_count": null,
   "metadata": {},
   "outputs": [],
   "source": []
  },
  {
   "cell_type": "markdown",
   "metadata": {},
   "source": [
    "# 2.1 Write a Python program using function concept that maps list of words into a list of integers representing the length of the corresponding words."
   ]
  },
  {
   "cell_type": "code",
   "execution_count": 28,
   "metadata": {},
   "outputs": [],
   "source": [
    "def func(l):\n",
    "    li=[]\n",
    "    for i in range(len(l)):\n",
    "        li.append(len(l[i]))\n",
    "    return li       "
   ]
  },
  {
   "cell_type": "code",
   "execution_count": 29,
   "metadata": {},
   "outputs": [],
   "source": [
    "ListofWords=['shantanu','rushi','akshay']"
   ]
  },
  {
   "cell_type": "code",
   "execution_count": 30,
   "metadata": {},
   "outputs": [
    {
     "name": "stdout",
     "output_type": "stream",
     "text": [
      "List of length of the corresponding words: [8, 5, 6]\n"
     ]
    }
   ],
   "source": [
    "print(\"List of length of the corresponding words:\",func(ListofWords))"
   ]
  },
  {
   "cell_type": "markdown",
   "metadata": {},
   "source": [
    "# 2.2 Write a Python function which takes a character (i-e a string of length 1) and returns True if it is a vowel,False otherwise"
   ]
  },
  {
   "cell_type": "code",
   "execution_count": 46,
   "metadata": {},
   "outputs": [],
   "source": [
    "def char_is_vowel(x):\n",
    "    return x.lower() in ['a','e','i','o','u']"
   ]
  },
  {
   "cell_type": "code",
   "execution_count": 47,
   "metadata": {},
   "outputs": [
    {
     "data": {
      "text/plain": [
       "False"
      ]
     },
     "execution_count": 47,
     "metadata": {},
     "output_type": "execute_result"
    }
   ],
   "source": [
    "char_is_vowel('z')"
   ]
  },
  {
   "cell_type": "code",
   "execution_count": 48,
   "metadata": {},
   "outputs": [
    {
     "data": {
      "text/plain": [
       "True"
      ]
     },
     "execution_count": 48,
     "metadata": {},
     "output_type": "execute_result"
    }
   ],
   "source": [
    "char_is_vowel('A')"
   ]
  }
 ],
 "metadata": {
  "kernelspec": {
   "display_name": "Python 3",
   "language": "python",
   "name": "python3"
  },
  "language_info": {
   "codemirror_mode": {
    "name": "ipython",
    "version": 3
   },
   "file_extension": ".py",
   "mimetype": "text/x-python",
   "name": "python",
   "nbconvert_exporter": "python",
   "pygments_lexer": "ipython3",
   "version": "3.7.3"
  }
 },
 "nbformat": 4,
 "nbformat_minor": 2
}
